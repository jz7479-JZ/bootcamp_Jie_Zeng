{
 "cells": [
  {
   "cell_type": "code",
   "execution_count": 1,
   "id": "4600bb1f-ab8a-44c5-beda-ce9da07e4b05",
   "metadata": {},
   "outputs": [
    {
     "name": "stdout",
     "output_type": "stream",
     "text": [
      "Vectorized result: [ 2  4  6  8 10 12 14 16 18 20]\n",
      "Loop result: [ 2  4  6  8 10 12 14 16 18 20]\n",
      "Vectorized time: 0.00079513s, Loop time: 0.00005126s\n"
     ]
    }
   ],
   "source": [
    "import numpy as np\n",
    "import time\n",
    "\n",
    "# Create an array\n",
    "arr = np.arange(1, 11)\n",
    "\n",
    "# Vectorized operation\n",
    "start = time.time()\n",
    "vec_result = arr * 2\n",
    "vec_time = time.time() - start\n",
    "\n",
    "# Loop operation\n",
    "start = time.time()\n",
    "loop_result = np.array([x * 2 for x in arr])\n",
    "loop_time = time.time() - start\n",
    "\n",
    "print(\"Vectorized result:\", vec_result)\n",
    "print(\"Loop result:\", loop_result)\n",
    "print(f\"Vectorized time: {vec_time:.8f}s, Loop time: {loop_time:.8f}s\")\n"
   ]
  },
  {
   "cell_type": "code",
   "execution_count": 1,
   "id": "9bb35110-d034-46ce-a1ab-9f6b175916a3",
   "metadata": {},
   "outputs": [
    {
     "ename": "ModuleNotFoundError",
     "evalue": "No module named 'pandas'",
     "output_type": "error",
     "traceback": [
      "\u001b[31m---------------------------------------------------------------------------\u001b[39m",
      "\u001b[31mModuleNotFoundError\u001b[39m                       Traceback (most recent call last)",
      "\u001b[36mCell\u001b[39m\u001b[36m \u001b[39m\u001b[32mIn[1]\u001b[39m\u001b[32m, line 1\u001b[39m\n\u001b[32m----> \u001b[39m\u001b[32m1\u001b[39m \u001b[38;5;28;01mimport\u001b[39;00m\u001b[38;5;250m \u001b[39m\u001b[34;01mpandas\u001b[39;00m\u001b[38;5;250m \u001b[39m\u001b[38;5;28;01mas\u001b[39;00m\u001b[38;5;250m \u001b[39m\u001b[34;01mpd\u001b[39;00m\n\u001b[32m      3\u001b[39m \u001b[38;5;66;03m# Load dataset\u001b[39;00m\n\u001b[32m      4\u001b[39m df = pd.read_csv(\u001b[33m\"\u001b[39m\u001b[33mdata/starter_data.csv\u001b[39m\u001b[33m\"\u001b[39m)\n",
      "\u001b[31mModuleNotFoundError\u001b[39m: No module named 'pandas'"
     ]
    }
   ],
   "source": [
    "import pandas as pd\n",
    "\n",
    "# Load dataset\n",
    "df = pd.read_csv(\"data/starter_data.csv\")\n",
    "\n",
    "# Inspect dataset\n",
    "print(df.info())\n",
    "df.head()\n"
   ]
  },
  {
   "cell_type": "code",
   "execution_count": 3,
   "id": "2f722c37-9f3c-4af4-9e14-3b2ee4cec6ad",
   "metadata": {},
   "outputs": [
    {
     "ename": "NameError",
     "evalue": "name 'df' is not defined",
     "output_type": "error",
     "traceback": [
      "\u001b[31m---------------------------------------------------------------------------\u001b[39m",
      "\u001b[31mNameError\u001b[39m                                 Traceback (most recent call last)",
      "\u001b[36mCell\u001b[39m\u001b[36m \u001b[39m\u001b[32mIn[3]\u001b[39m\u001b[32m, line 2\u001b[39m\n\u001b[32m      1\u001b[39m \u001b[38;5;66;03m# Summary for numeric columns\u001b[39;00m\n\u001b[32m----> \u001b[39m\u001b[32m2\u001b[39m summary_stats = \u001b[43mdf\u001b[49m.describe()\n\u001b[32m      4\u001b[39m \u001b[38;5;66;03m# Groupby aggregation (replace category_column with actual column name)\u001b[39;00m\n\u001b[32m      5\u001b[39m category_group = df.groupby(\u001b[33m\"\u001b[39m\u001b[33mcategory_column\u001b[39m\u001b[33m\"\u001b[39m).mean()\n",
      "\u001b[31mNameError\u001b[39m: name 'df' is not defined"
     ]
    }
   ],
   "source": [
    "# Summary for numeric columns\n",
    "summary_stats = df.describe()\n",
    "\n",
    "# Groupby aggregation (replace category_column with actual column name)\n",
    "category_group = df.groupby(\"category_column\").mean()\n",
    "\n",
    "summary_stats, category_group\n"
   ]
  },
  {
   "cell_type": "code",
   "execution_count": 4,
   "id": "4623e602-1ff0-4b53-8c18-487d75f97b6a",
   "metadata": {},
   "outputs": [
    {
     "ename": "NameError",
     "evalue": "name 'summary_stats' is not defined",
     "output_type": "error",
     "traceback": [
      "\u001b[31m---------------------------------------------------------------------------\u001b[39m",
      "\u001b[31mNameError\u001b[39m                                 Traceback (most recent call last)",
      "\u001b[36mCell\u001b[39m\u001b[36m \u001b[39m\u001b[32mIn[4]\u001b[39m\u001b[32m, line 7\u001b[39m\n\u001b[32m      4\u001b[39m os.makedirs(\u001b[33m\"\u001b[39m\u001b[33mdata/processed\u001b[39m\u001b[33m\"\u001b[39m, exist_ok=\u001b[38;5;28;01mTrue\u001b[39;00m)\n\u001b[32m      6\u001b[39m \u001b[38;5;66;03m# Save as CSV\u001b[39;00m\n\u001b[32m----> \u001b[39m\u001b[32m7\u001b[39m \u001b[43msummary_stats\u001b[49m.to_csv(\u001b[33m\"\u001b[39m\u001b[33mdata/processed/summary.csv\u001b[39m\u001b[33m\"\u001b[39m, index=\u001b[38;5;28;01mTrue\u001b[39;00m)\n\u001b[32m      9\u001b[39m \u001b[38;5;66;03m# Bonus: create and save a basic plot\u001b[39;00m\n\u001b[32m     10\u001b[39m \u001b[38;5;28;01mimport\u001b[39;00m\u001b[38;5;250m \u001b[39m\u001b[34;01mmatplotlib\u001b[39;00m\u001b[34;01m.\u001b[39;00m\u001b[34;01mpyplot\u001b[39;00m\u001b[38;5;250m \u001b[39m\u001b[38;5;28;01mas\u001b[39;00m\u001b[38;5;250m \u001b[39m\u001b[34;01mplt\u001b[39;00m\n",
      "\u001b[31mNameError\u001b[39m: name 'summary_stats' is not defined"
     ]
    }
   ],
   "source": [
    "import os\n",
    "\n",
    "# Create processed folder\n",
    "os.makedirs(\"data/processed\", exist_ok=True)\n",
    "\n",
    "# Save as CSV\n",
    "summary_stats.to_csv(\"data/processed/summary.csv\", index=True)\n",
    "\n",
    "# Bonus: create and save a basic plot\n",
    "import matplotlib.pyplot as plt\n",
    "\n",
    "# Replace numeric_column with an actual numeric column name\n",
    "df[\"numeric_column\"].hist()\n",
    "plt.title(\"Histogram\")\n",
    "plt.savefig(\"data/processed/histogram.png\")\n",
    "plt.show()\n"
   ]
  },
  {
   "cell_type": "code",
   "execution_count": 5,
   "id": "98e6c31f-7c21-4a41-8e0f-b3f126890632",
   "metadata": {},
   "outputs": [
    {
     "ename": "NameError",
     "evalue": "name 'df' is not defined",
     "output_type": "error",
     "traceback": [
      "\u001b[31m---------------------------------------------------------------------------\u001b[39m",
      "\u001b[31mNameError\u001b[39m                                 Traceback (most recent call last)",
      "\u001b[36mCell\u001b[39m\u001b[36m \u001b[39m\u001b[32mIn[5]\u001b[39m\u001b[32m, line 7\u001b[39m\n\u001b[32m      4\u001b[39m     \u001b[38;5;28;01mreturn\u001b[39;00m dataframe.describe()\n\u001b[32m      6\u001b[39m \u001b[38;5;66;03m# Call function\u001b[39;00m\n\u001b[32m----> \u001b[39m\u001b[32m7\u001b[39m \u001b[38;5;28mprint\u001b[39m(get_summary_stats(\u001b[43mdf\u001b[49m))\n",
      "\u001b[31mNameError\u001b[39m: name 'df' is not defined"
     ]
    }
   ],
   "source": [
    "# In notebook\n",
    "def get_summary_stats(dataframe):\n",
    "    \"\"\"Return summary statistics for the dataframe\"\"\"\n",
    "    return dataframe.describe()\n",
    "\n",
    "# Call function\n",
    "print(get_summary_stats(df))\n"
   ]
  },
  {
   "cell_type": "code",
   "execution_count": null,
   "id": "569890c2-4309-433a-a715-36cf5b2fe2cb",
   "metadata": {},
   "outputs": [],
   "source": []
  }
 ],
 "metadata": {
  "kernelspec": {
   "display_name": "Python (proj-env)",
   "language": "python",
   "name": "proj-env"
  },
  "language_info": {
   "codemirror_mode": {
    "name": "ipython",
    "version": 3
   },
   "file_extension": ".py",
   "mimetype": "text/x-python",
   "name": "python",
   "nbconvert_exporter": "python",
   "pygments_lexer": "ipython3",
   "version": "3.13.5"
  }
 },
 "nbformat": 4,
 "nbformat_minor": 5
}
