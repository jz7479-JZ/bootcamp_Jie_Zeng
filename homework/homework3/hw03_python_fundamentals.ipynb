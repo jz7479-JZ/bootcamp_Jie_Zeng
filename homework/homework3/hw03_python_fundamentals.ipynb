{
 "cells": [
  {
   "cell_type": "code",
   "execution_count": 3,
   "id": "4600bb1f-ab8a-44c5-beda-ce9da07e4b05",
   "metadata": {},
   "outputs": [
    {
     "name": "stdout",
     "output_type": "stream",
     "text": [
      "Vectorized result: [      2       4       6 ... 2199994 2199996 2199998]\n",
      "Loop result: [      2       4       6 ... 2199994 2199996 2199998]\n",
      "Vectorized time: 0.00617218s, Loop time: 0.10529184s\n"
     ]
    }
   ],
   "source": [
    "import numpy as np\n",
    "import time\n",
    "\n",
    "arr = np.arange(1, 1100000)\n",
    "\n",
    "start = time.time()\n",
    "vec_result = arr * 2\n",
    "vec_time = time.time() - start\n",
    "\n",
    "start = time.time()\n",
    "loop_result = np.array([x * 2 for x in arr])\n",
    "loop_time = time.time() - start\n",
    "\n",
    "print(\"Vectorized result:\", vec_result)\n",
    "print(\"Loop result:\", loop_result)\n",
    "print(f\"Vectorized time: {vec_time:.8f}s, Loop time: {loop_time:.8f}s\")\n"
   ]
  },
  {
   "cell_type": "code",
   "execution_count": 27,
   "id": "9bb35110-d034-46ce-a1ab-9f6b175916a3",
   "metadata": {},
   "outputs": [
    {
     "name": "stdout",
     "output_type": "stream",
     "text": [
      "<class 'pandas.core.frame.DataFrame'>\n",
      "RangeIndex: 10 entries, 0 to 9\n",
      "Data columns (total 3 columns):\n",
      " #   Column    Non-Null Count  Dtype \n",
      "---  ------    --------------  ----- \n",
      " 0   category  10 non-null     object\n",
      " 1   value     10 non-null     int64 \n",
      " 2   date      10 non-null     object\n",
      "dtypes: int64(1), object(2)\n",
      "memory usage: 368.0+ bytes\n",
      "None\n"
     ]
    },
    {
     "data": {
      "text/html": [
       "<div>\n",
       "<style scoped>\n",
       "    .dataframe tbody tr th:only-of-type {\n",
       "        vertical-align: middle;\n",
       "    }\n",
       "\n",
       "    .dataframe tbody tr th {\n",
       "        vertical-align: top;\n",
       "    }\n",
       "\n",
       "    .dataframe thead th {\n",
       "        text-align: right;\n",
       "    }\n",
       "</style>\n",
       "<table border=\"1\" class=\"dataframe\">\n",
       "  <thead>\n",
       "    <tr style=\"text-align: right;\">\n",
       "      <th></th>\n",
       "      <th>category</th>\n",
       "      <th>value</th>\n",
       "      <th>date</th>\n",
       "    </tr>\n",
       "  </thead>\n",
       "  <tbody>\n",
       "    <tr>\n",
       "      <th>0</th>\n",
       "      <td>A</td>\n",
       "      <td>10</td>\n",
       "      <td>2025-08-01</td>\n",
       "    </tr>\n",
       "    <tr>\n",
       "      <th>1</th>\n",
       "      <td>B</td>\n",
       "      <td>15</td>\n",
       "      <td>2025-08-02</td>\n",
       "    </tr>\n",
       "    <tr>\n",
       "      <th>2</th>\n",
       "      <td>A</td>\n",
       "      <td>12</td>\n",
       "      <td>2025-08-03</td>\n",
       "    </tr>\n",
       "    <tr>\n",
       "      <th>3</th>\n",
       "      <td>B</td>\n",
       "      <td>18</td>\n",
       "      <td>2025-08-04</td>\n",
       "    </tr>\n",
       "    <tr>\n",
       "      <th>4</th>\n",
       "      <td>C</td>\n",
       "      <td>25</td>\n",
       "      <td>2025-08-05</td>\n",
       "    </tr>\n",
       "  </tbody>\n",
       "</table>\n",
       "</div>"
      ],
      "text/plain": [
       "  category  value        date\n",
       "0        A     10  2025-08-01\n",
       "1        B     15  2025-08-02\n",
       "2        A     12  2025-08-03\n",
       "3        B     18  2025-08-04\n",
       "4        C     25  2025-08-05"
      ]
     },
     "execution_count": 27,
     "metadata": {},
     "output_type": "execute_result"
    }
   ],
   "source": [
    "import pandas as pd\n",
    "\n",
    "df = pd.read_csv(\"data/starter_data.csv\")\n",
    "\n",
    "print(df.info())\n",
    "df.head()\n"
   ]
  },
  {
   "cell_type": "code",
   "execution_count": 28,
   "id": "2f722c37-9f3c-4af4-9e14-3b2ee4cec6ad",
   "metadata": {},
   "outputs": [
    {
     "data": {
      "text/plain": [
       "(           value\n",
       " count  10.000000\n",
       " mean   17.600000\n",
       " std     7.381659\n",
       " min    10.000000\n",
       " 25%    12.250000\n",
       " 50%    14.500000\n",
       " 75%    23.250000\n",
       " max    30.000000,\n",
       " category\n",
       " A    11.500000\n",
       " B    15.666667\n",
       " C    27.666667\n",
       " Name: value, dtype: float64)"
      ]
     },
     "execution_count": 28,
     "metadata": {},
     "output_type": "execute_result"
    }
   ],
   "source": [
    "summary_stats = df.describe()\n",
    "category_group = df.groupby(\"category\")[\"value\"].mean()\n",
    "\n",
    "summary_stats, category_group\n"
   ]
  },
  {
   "cell_type": "code",
   "execution_count": 29,
   "id": "4623e602-1ff0-4b53-8c18-487d75f97b6a",
   "metadata": {},
   "outputs": [],
   "source": [
    "import os\n",
    "\n",
    "os.makedirs(\"data/processed\", exist_ok=True)\n",
    "\n",
    "summary_stats.to_csv(\"data/processed/summary.csv\", index=True)\n",
    "\n"
   ]
  },
  {
   "cell_type": "code",
   "execution_count": 30,
   "id": "98e6c31f-7c21-4a41-8e0f-b3f126890632",
   "metadata": {},
   "outputs": [
    {
     "name": "stdout",
     "output_type": "stream",
     "text": [
      "           value\n",
      "count  10.000000\n",
      "mean   17.600000\n",
      "std     7.381659\n",
      "min    10.000000\n",
      "25%    12.250000\n",
      "50%    14.500000\n",
      "75%    23.250000\n",
      "max    30.000000\n"
     ]
    }
   ],
   "source": [
    "\n",
    "def get_summary_stats(dataframe):\n",
    "    \n",
    "    return dataframe.describe()\n",
    "\n",
    "print(get_summary_stats(df))\n"
   ]
  }
 ],
 "metadata": {
  "kernelspec": {
   "display_name": "bootcamp_env",
   "language": "python",
   "name": "python3"
  },
  "language_info": {
   "codemirror_mode": {
    "name": "ipython",
    "version": 3
   },
   "file_extension": ".py",
   "mimetype": "text/x-python",
   "name": "python",
   "nbconvert_exporter": "python",
   "pygments_lexer": "ipython3",
   "version": "3.10.18"
  }
 },
 "nbformat": 4,
 "nbformat_minor": 5
}
