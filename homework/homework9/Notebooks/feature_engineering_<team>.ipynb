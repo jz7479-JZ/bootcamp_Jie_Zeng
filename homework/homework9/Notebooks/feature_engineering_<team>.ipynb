{
 "cells": [
  {
   "cell_type": "markdown",
   "metadata": {},
   "source": [
    "# Stage 09 — Homework Starter Notebook\n",
    "\n",
    "In the lecture, we learned how to create engineered features. Now it’s your turn to apply those ideas to your own project data."
   ]
  },
  {
   "cell_type": "code",
   "execution_count": 2,
   "metadata": {},
   "outputs": [
    {
     "name": "stderr",
     "output_type": "stream",
     "text": [
      "/var/folders/hj/0fkcndtd5h70rxxk2mnp3tx80000gn/T/ipykernel_8827/1255321405.py:6: FutureWarning: YF.download() has changed argument auto_adjust default to True\n",
      "  df = yf.download(\"NVDA\", start=\"2020-01-01\", end=\"2025-01-01\")\n",
      "[*********************100%***********************]  1 of 1 completed\n"
     ]
    },
    {
     "data": {
      "text/html": [
       "<div>\n",
       "<style scoped>\n",
       "    .dataframe tbody tr th:only-of-type {\n",
       "        vertical-align: middle;\n",
       "    }\n",
       "\n",
       "    .dataframe tbody tr th {\n",
       "        vertical-align: top;\n",
       "    }\n",
       "\n",
       "    .dataframe thead tr th {\n",
       "        text-align: left;\n",
       "    }\n",
       "</style>\n",
       "<table border=\"1\" class=\"dataframe\">\n",
       "  <thead>\n",
       "    <tr>\n",
       "      <th>Price</th>\n",
       "      <th>Date</th>\n",
       "      <th>Close</th>\n",
       "      <th>High</th>\n",
       "      <th>Low</th>\n",
       "      <th>Open</th>\n",
       "      <th>Volume</th>\n",
       "    </tr>\n",
       "    <tr>\n",
       "      <th>Ticker</th>\n",
       "      <th></th>\n",
       "      <th>NVDA</th>\n",
       "      <th>NVDA</th>\n",
       "      <th>NVDA</th>\n",
       "      <th>NVDA</th>\n",
       "      <th>NVDA</th>\n",
       "    </tr>\n",
       "  </thead>\n",
       "  <tbody>\n",
       "    <tr>\n",
       "      <th>0</th>\n",
       "      <td>2020-01-02</td>\n",
       "      <td>5.971746</td>\n",
       "      <td>5.971746</td>\n",
       "      <td>5.892343</td>\n",
       "      <td>5.942872</td>\n",
       "      <td>237536000</td>\n",
       "    </tr>\n",
       "    <tr>\n",
       "      <th>1</th>\n",
       "      <td>2020-01-03</td>\n",
       "      <td>5.876163</td>\n",
       "      <td>5.919973</td>\n",
       "      <td>5.827127</td>\n",
       "      <td>5.852019</td>\n",
       "      <td>205384000</td>\n",
       "    </tr>\n",
       "    <tr>\n",
       "      <th>2</th>\n",
       "      <td>2020-01-06</td>\n",
       "      <td>5.900805</td>\n",
       "      <td>5.906032</td>\n",
       "      <td>5.756683</td>\n",
       "      <td>5.782819</td>\n",
       "      <td>262636000</td>\n",
       "    </tr>\n",
       "    <tr>\n",
       "      <th>3</th>\n",
       "      <td>2020-01-07</td>\n",
       "      <td>5.972244</td>\n",
       "      <td>6.018045</td>\n",
       "      <td>5.884128</td>\n",
       "      <td>5.929182</td>\n",
       "      <td>314856000</td>\n",
       "    </tr>\n",
       "    <tr>\n",
       "      <th>4</th>\n",
       "      <td>2020-01-08</td>\n",
       "      <td>5.983446</td>\n",
       "      <td>6.024766</td>\n",
       "      <td>5.927938</td>\n",
       "      <td>5.968013</td>\n",
       "      <td>277108000</td>\n",
       "    </tr>\n",
       "  </tbody>\n",
       "</table>\n",
       "</div>"
      ],
      "text/plain": [
       "Price        Date     Close      High       Low      Open     Volume\n",
       "Ticker                 NVDA      NVDA      NVDA      NVDA       NVDA\n",
       "0      2020-01-02  5.971746  5.971746  5.892343  5.942872  237536000\n",
       "1      2020-01-03  5.876163  5.919973  5.827127  5.852019  205384000\n",
       "2      2020-01-06  5.900805  5.906032  5.756683  5.782819  262636000\n",
       "3      2020-01-07  5.972244  6.018045  5.884128  5.929182  314856000\n",
       "4      2020-01-08  5.983446  6.024766  5.927938  5.968013  277108000"
      ]
     },
     "execution_count": 2,
     "metadata": {},
     "output_type": "execute_result"
    }
   ],
   "source": [
    "import pandas as pd\n",
    "import numpy as np\n",
    "import yfinance as yf\n",
    "\n",
    "# Example synthetic data (replace with your project dataset)\n",
    "df = yf.download(\"NVDA\", start=\"2020-01-01\", end=\"2025-01-01\")\n",
    "df = df.reset_index()\n",
    "df.head()"
   ]
  },
  {
   "cell_type": "markdown",
   "metadata": {},
   "source": [
    "## TODO: Implement at least 2 engineered features here"
   ]
  },
  {
   "cell_type": "code",
   "execution_count": 4,
   "metadata": {},
   "outputs": [],
   "source": [
    "# Example template:\n",
    "#Rolling Mean\n",
    "df['ma_10'] = df['Close'].rolling(window=10).mean() # TODO: Your feature\n",
    "# Add rationale in markdown below"
   ]
  },
  {
   "cell_type": "markdown",
   "metadata": {},
   "source": [
    "### Rationale for Feature 1\n",
    "Explain why this feature may help a model. Reference your EDA.\n",
    "### Feature 1: 10-day Moving Average\n",
    "- Smooths short-term noise in the stock price.  \n",
    "- Captures underlying price trend."
   ]
  },
  {
   "cell_type": "code",
   "execution_count": 6,
   "metadata": {},
   "outputs": [],
   "source": [
    "# TODO: Add another feature\n",
    "# Example: df['rolling_spend_mean'] = df['monthly_spend'].rolling(3).mean()\n",
    "#Rolling Volatility\n",
    "df['daily_return'] = df['Close'].pct_change()\n",
    "df['volatility_10'] = df['daily_return'].rolling(window=10).std()"
   ]
  },
  {
   "cell_type": "markdown",
   "metadata": {},
   "source": [
    "### Rationale for Feature 2\n",
    "Explain why this feature may help a model. Reference your EDA.\n",
    "### Feature 2: 10-day Volatility (std of returns)\n",
    "- Measures short-term risk and uncertainty.  \n",
    "- Can help models account for market turbulence."
   ]
  }
 ],
 "metadata": {
  "kernelspec": {
   "display_name": "bootcamp_env",
   "language": "python",
   "name": "python3"
  },
  "language_info": {
   "codemirror_mode": {
    "name": "ipython",
    "version": 3
   },
   "file_extension": ".py",
   "mimetype": "text/x-python",
   "name": "python",
   "nbconvert_exporter": "python",
   "pygments_lexer": "ipython3",
   "version": "3.10.18"
  }
 },
 "nbformat": 4,
 "nbformat_minor": 5
}
