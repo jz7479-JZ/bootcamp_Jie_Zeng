{
 "cells": [
  {
   "cell_type": "code",
   "execution_count": 4,
   "id": "ab6612cb-d8ab-455b-92f0-152a000b2319",
   "metadata": {},
   "outputs": [
    {
     "name": "stdout",
     "output_type": "stream",
     "text": [
      "API_KEY found: dummy_key_123\n",
      "Array: [1 2 3]\n",
      "Array mean: 2.0\n"
     ]
    }
   ],
   "source": [
    "import sys, os\n",
    "sys.path.append(os.path.dirname(os.getcwd()))\n",
    "from src.config import load_env, get_key\n",
    "from dotenv import load_dotenv\n",
    "\n",
    "load_dotenv()\n",
    "\n",
    "try:\n",
    "    api_key = get_key(\"API_KEY\")\n",
    "    print(f\"API_KEY found: {api_key}\")\n",
    "except KeyError:\n",
    "    print(\"API_KEY not found!\")\n",
    "\n",
    "import numpy as np\n",
    "arr = np.array([1, 2, 3])\n",
    "print(\"Array:\", arr)\n",
    "print(\"Array mean:\", arr.mean())"
   ]
  },
  {
   "cell_type": "code",
   "execution_count": 5,
   "id": "82bf3b71-a8ed-4378-b771-41fa9dd983e2",
   "metadata": {},
   "outputs": [
    {
     "data": {
      "text/plain": [
       "'dummy_key_123'"
      ]
     },
     "execution_count": 5,
     "metadata": {},
     "output_type": "execute_result"
    }
   ],
   "source": [
    "get_key(\"API_KEY\")"
   ]
  },
  {
   "cell_type": "code",
   "execution_count": null,
   "id": "2454301d-1229-461b-8cd9-54b1db10d1ce",
   "metadata": {},
   "outputs": [],
   "source": []
  }
 ],
 "metadata": {
  "kernelspec": {
   "display_name": "Python 3 (ipykernel)",
   "language": "python",
   "name": "python3"
  },
  "language_info": {
   "codemirror_mode": {
    "name": "ipython",
    "version": 3
   },
   "file_extension": ".py",
   "mimetype": "text/x-python",
   "name": "python",
   "nbconvert_exporter": "python",
   "pygments_lexer": "ipython3",
   "version": "3.13.5"
  }
 },
 "nbformat": 4,
 "nbformat_minor": 5
}
