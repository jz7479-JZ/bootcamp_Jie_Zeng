{
 "cells": [
  {
   "cell_type": "code",
   "execution_count": 1,
   "id": "762fbf0d",
   "metadata": {},
   "outputs": [],
   "source": [
    "# imports\n",
    "import os, pathlib, datetime as dt\n",
    "import requests\n",
    "import pandas as pd\n",
    "from bs4 import BeautifulSoup\n",
    "from dotenv import load_dotenv\n",
    "import yfinance as yf\n",
    "import datetime as dt"
   ]
  },
  {
   "cell_type": "code",
   "execution_count": 5,
   "id": "46256d7b",
   "metadata": {},
   "outputs": [
    {
     "name": "stdout",
     "output_type": "stream",
     "text": [
      "ALPHAVANTAGE_API_KEY loaded? False\n"
     ]
    }
   ],
   "source": [
    "RAW = pathlib.Path('../tests/data/raw'); RAW.mkdir(parents=True, exist_ok=True)\n",
    "load_dotenv(); print('ALPHAVANTAGE_API_KEY loaded?', bool(os.getenv('ALPHAVANTAGE_API_KEY')))"
   ]
  },
  {
   "cell_type": "code",
   "execution_count": 6,
   "id": "88c6c8e6",
   "metadata": {},
   "outputs": [
    {
     "name": "stderr",
     "output_type": "stream",
     "text": [
      "/var/folders/hj/0fkcndtd5h70rxxk2mnp3tx80000gn/T/ipykernel_67249/3422964903.py:16: FutureWarning: YF.download() has changed argument auto_adjust default to True\n",
      "  df_api = yf.download(ticker, period=\"3mo\", interval=\"1d\").reset_index()[[\"Date\",\"Close\"]]\n",
      "[*********************100%***********************]  1 of 1 completed"
     ]
    },
    {
     "name": "stdout",
     "output_type": "stream",
     "text": [
      "Saved: ../tests/data/raw/api_yf_NVDA_20250820-1825.csv\n"
     ]
    },
    {
     "name": "stderr",
     "output_type": "stream",
     "text": [
      "\n"
     ]
    },
    {
     "data": {
      "text/plain": [
       "{'missing': [], 'shape': (63, 2), 'na_total': 0}"
      ]
     },
     "execution_count": 6,
     "metadata": {},
     "output_type": "execute_result"
    }
   ],
   "source": [
    "def ts():\n",
    "    return dt.datetime.now().strftime(\"%Y%m%d-%H%M\")\n",
    "\n",
    "def save_csv(df: pd.DataFrame, prefix: str, **meta):\n",
    "    mid = '_'.join([f\"{k}-{v}\" for k,v in meta.items()])\n",
    "    path = RAW / f\"{prefix}_{mid}_{ts()}.csv\"\n",
    "    df.to_csv(path, index=False)\n",
    "    print('Saved', path)\n",
    "    return path\n",
    "\n",
    "def validate(df: pd.DataFrame, required):\n",
    "    missing = [c for c in required if c not in df.columns]\n",
    "    return {'missing': missing, 'shape': df.shape, 'na_total': int(df.isna().sum().sum())}\n",
    "\n",
    "ticker = \"NVDA\"\n",
    "df_api = yf.download(ticker, period=\"3mo\", interval=\"1d\").reset_index()[[\"Date\",\"Close\"]]\n",
    "df_api.columns = [\"date\",\"close\"]\n",
    "\n",
    "path_api = f\"../tests/data/raw/api_yf_{ticker}_{ts()}.csv\"\n",
    "df_api.to_csv(path_api, index=False)\n",
    "print(\"Saved:\", path_api)\n",
    "\n",
    "v_api = validate(df_api, ['date','close']); v_api"
   ]
  },
  {
   "cell_type": "code",
   "execution_count": 7,
   "id": "624af45c",
   "metadata": {},
   "outputs": [
    {
     "name": "stdout",
     "output_type": "stream",
     "text": [
      "Saved ../tests/data/raw/api_source-alpha_symbol-NVDA_20250820-1825.csv\n"
     ]
    }
   ],
   "source": [
    "_ = save_csv(df_api.sort_values('date'), prefix='api', source='alpha', symbol= 'NVDA')"
   ]
  },
  {
   "cell_type": "code",
   "execution_count": null,
   "id": "739d4513",
   "metadata": {},
   "outputs": [],
   "source": []
  }
 ],
 "metadata": {
  "kernelspec": {
   "display_name": "bootcamp_env",
   "language": "python",
   "name": "python3"
  },
  "language_info": {
   "codemirror_mode": {
    "name": "ipython",
    "version": 3
   },
   "file_extension": ".py",
   "mimetype": "text/x-python",
   "name": "python",
   "nbconvert_exporter": "python",
   "pygments_lexer": "ipython3",
   "version": "3.10.18"
  }
 },
 "nbformat": 4,
 "nbformat_minor": 5
}
